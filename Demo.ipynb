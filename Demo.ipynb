{
 "cells": [
  {
   "cell_type": "markdown",
   "metadata": {},
   "source": [
    "# Pipelien Profiler"
   ]
  },
  {
   "cell_type": "code",
   "execution_count": null,
   "metadata": {},
   "outputs": [],
   "source": [
    "from pathlib import Path\n",
    "import json\n",
    "from IPython.core.display import display, HTML\n",
    "display(HTML(\"<style>.container { width:2000px !important; } </style>\"))\n",
    "import PipelineProfiler\n",
    "from collections import defaultdict"
   ]
  },
  {
   "cell_type": "markdown",
   "metadata": {},
   "source": [
    "### Loading and preprocessing data"
   ]
  },
  {
   "cell_type": "code",
   "execution_count": null,
   "metadata": {},
   "outputs": [],
   "source": [
    "with open(\"./pipelines_processed_20200304_sampled.json\", \"r\") as f:\n",
    "    pipelines = json.load(f)\n",
    "\n",
    "def get_top_k_pipelines_team(pipelines, k):\n",
    "    team_pipelines = defaultdict(list)\n",
    "    for pipeline in pipelines:\n",
    "        source = pipeline['pipeline_source']['name']\n",
    "        team_pipelines[source].append(pipeline)\n",
    "    for team in team_pipelines.keys():\n",
    "        team_pipelines[team] = sorted(team_pipelines[team], key=lambda x: x['scores'][0]['normalized'], reverse=True)\n",
    "        team_pipelines[team] = team_pipelines[team][:k]\n",
    "    new_pipelines = []\n",
    "    for team in team_pipelines.keys():\n",
    "        new_pipelines.extend(team_pipelines[team])\n",
    "    return new_pipelines\n",
    "\n",
    "pipelines_problem = {}\n",
    "for pipeline in pipelines:  \n",
    "    problem_id = pipeline['problem']['id']\n",
    "    if problem_id not in pipelines_problem:\n",
    "        pipelines_problem[problem_id] = []\n",
    "    pipelines_problem[problem_id].append(pipeline)\n",
    "for problem in pipelines_problem.keys():\n",
    "    pipelines_problem[problem] = get_top_k_pipelines_team(pipelines_problem[problem], k=7)"
   ]
  },
  {
   "cell_type": "markdown",
   "metadata": {},
   "source": [
    "### Dataset list"
   ]
  },
  {
   "cell_type": "code",
   "execution_count": null,
   "metadata": {},
   "outputs": [],
   "source": [
    "pipelines_problem.keys()"
   ]
  },
  {
   "cell_type": "markdown",
   "metadata": {},
   "source": [
    "### Pipeline exploration"
   ]
  },
  {
   "cell_type": "code",
   "execution_count": null,
   "metadata": {},
   "outputs": [],
   "source": [
    "PipelineProfiler.plot_pipeline_matrix(pipelines_problem[\"124_174_cifar10_problem_TRAIN\"])"
   ]
  },
  {
   "cell_type": "code",
   "execution_count": null,
   "metadata": {},
   "outputs": [],
   "source": [
    "PipelineProfiler.plot_pipeline_matrix(pipelines_problem[\"66_chlorineConcentration_problem_TRAIN\"])"
   ]
  },
  {
   "cell_type": "code",
   "execution_count": null,
   "metadata": {},
   "outputs": [],
   "source": [
    "PipelineProfiler.plot_pipeline_matrix(pipelines_problem[\"27_wordLevels_problem_TRAIN\"])"
   ]
  },
  {
   "cell_type": "code",
   "execution_count": null,
   "metadata": {},
   "outputs": [],
   "source": [
    "PipelineProfiler.plot_pipeline_matrix(pipelines_problem[\"LL0_1100_popularkids_problem_TRAIN\"])"
   ]
  }
 ],
 "metadata": {
  "kernelspec": {
   "display_name": "Python 3",
   "language": "python",
   "name": "python3"
  },
  "language_info": {
   "codemirror_mode": {
    "name": "ipython",
    "version": 3
   },
   "file_extension": ".py",
   "mimetype": "text/x-python",
   "name": "python",
   "nbconvert_exporter": "python",
   "pygments_lexer": "ipython3",
   "version": "3.6.9"
  }
 },
 "nbformat": 4,
 "nbformat_minor": 2
}
