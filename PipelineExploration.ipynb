{
 "cells": [
  {
   "cell_type": "markdown",
   "metadata": {},
   "source": [
    "# Pipeline Exploration notebook\n",
    "This notebook contains an interactive tool to explore the metalearning pipelines. It should be used with the merged pipeline file produced by \"pipeline_merge.py\"."
   ]
  },
  {
   "cell_type": "code",
   "execution_count": 1,
   "metadata": {},
   "outputs": [
    {
     "data": {
      "text/html": [
       "<style>.container { width:2500px !important; }</style>"
      ],
      "text/plain": [
       "<IPython.core.display.HTML object>"
      ]
     },
     "metadata": {},
     "output_type": "display_data"
    }
   ],
   "source": [
    "import json\n",
    "from IPython.core.display import display, HTML\n",
    "from ipywidgets import interact, interactive, fixed, interact_manual\n",
    "import ipywidgets as widgets\n",
    "import numpy as np\n",
    "import SimpleNodeLink\n",
    "display(HTML(\"<style>.container { width:2500px !important; }</style>\"))"
   ]
  },
  {
   "cell_type": "markdown",
   "metadata": {},
   "source": [
    "### Reading Data"
   ]
  },
  {
   "cell_type": "code",
   "execution_count": 2,
   "metadata": {},
   "outputs": [],
   "source": [
    "with open(\"/Users/jorgehpo/Documents/D3MPipelines/pipelines_processed_20191004.json\", \"r\") as f:\n",
    "    pipelines = json.load(f)\n",
    "\n",
    "problems = np.unique([pipeline['problem']['id'] for pipeline in pipelines])\n",
    "universities = np.unique([pipeline[\"pipeline_source\"][\"name\"] for pipeline in pipelines])"
   ]
  },
  {
   "cell_type": "code",
   "execution_count": 3,
   "metadata": {},
   "outputs": [
    {
     "name": "stderr",
     "output_type": "stream",
     "text": [
      "/anaconda3/lib/python3.6/site-packages/traitlets/traitlets.py:567: FutureWarning: elementwise comparison failed; returning scalar instead, but in the future will perform elementwise comparison\n",
      "  silent = bool(old_value == new_value)\n"
     ]
    },
    {
     "data": {
      "application/vnd.jupyter.widget-view+json": {
       "model_id": "7387e76ed796470d87c4cf07f9c13110",
       "version_major": 2,
       "version_minor": 0
      },
      "text/plain": [
       "interactive(children=(Dropdown(description='Problem :', options=('124_174_cifar10_problem_TRAIN', '124_188_usp…"
      ]
     },
     "metadata": {},
     "output_type": "display_data"
    }
   ],
   "source": [
    "def f(problem, ta2):\n",
    "    filtered = list(filter(lambda pipeline: pipeline[\"pipeline_source\"][\"name\"] == ta2 and pipeline['problem']['id'] == problem, pipelines))\n",
    "    if (len(filtered) > 0):\n",
    "        filtered = sorted(filtered, key=lambda p: p['scores'][0]['value'], reverse=True)\n",
    "        for idx, pipeline in enumerate(filtered[:5]): # plotting at most 10 pipelines\n",
    "            print (\"#{}, score: {}\".format(idx+1, pipeline['scores'][0]['value']))\n",
    "            SimpleNodeLink.plot_pipeline_node_link(pipeline)\n",
    "        \n",
    "ta2_widget = widgets.Dropdown(\n",
    "    options=universities,\n",
    "    description='TA2 :',\n",
    "    disabled=False,\n",
    ")\n",
    "problem_widget = widgets.Dropdown(\n",
    "    options=problems,\n",
    "    description='Problem :',\n",
    "    disabled=False,\n",
    ")\n",
    "def update_ta2(*args):\n",
    "    problem = problem_widget.value\n",
    "    pipelines_filtered_by_problem = filter(lambda pipeline: pipeline['problem']['id'] == problem, pipelines)\n",
    "    ta2_by_problem = np.unique([pipeline[\"pipeline_source\"][\"name\"] for pipeline in pipelines_filtered_by_problem])\n",
    "    ta2_widget.options = ta2_by_problem\n",
    "\n",
    "ta2_widget.observe(update_ta2, 'value')\n",
    "update_ta2()\n",
    "\n",
    "interact(f, problem = problem_widget, ta2=ta2_widget);"
   ]
  },
  {
   "cell_type": "code",
   "execution_count": null,
   "metadata": {},
   "outputs": [],
   "source": []
  },
  {
   "cell_type": "code",
   "execution_count": null,
   "metadata": {},
   "outputs": [],
   "source": []
  },
  {
   "cell_type": "code",
   "execution_count": null,
   "metadata": {},
   "outputs": [],
   "source": []
  },
  {
   "cell_type": "code",
   "execution_count": null,
   "metadata": {},
   "outputs": [],
   "source": []
  }
 ],
 "metadata": {
  "kernelspec": {
   "display_name": "Python 3",
   "language": "python",
   "name": "python3"
  },
  "language_info": {
   "codemirror_mode": {
    "name": "ipython",
    "version": 3
   },
   "file_extension": ".py",
   "mimetype": "text/x-python",
   "name": "python",
   "nbconvert_exporter": "python",
   "pygments_lexer": "ipython3",
   "version": "3.6.9"
  }
 },
 "nbformat": 4,
 "nbformat_minor": 4
}
